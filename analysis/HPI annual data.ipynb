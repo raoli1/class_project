{
 "cells": [
  {
   "cell_type": "code",
   "execution_count": 1,
   "metadata": {},
   "outputs": [],
   "source": [
    "from sklearn.model_selection import train_test_split\n",
    "from sklearn.linear_model import LinearRegression\n",
    "from sklearn.metrics import mean_squared_error, r2_score"
   ]
  },
  {
   "cell_type": "code",
   "execution_count": 2,
   "metadata": {},
   "outputs": [],
   "source": [
    "import numpy as np, pandas as pd, matplotlib.pyplot as plt, seaborn as sns\n",
    "from datetime import datetime, timedelta\n",
    "from fredapi import Fred\n",
    "import quandl"
   ]
  },
  {
   "cell_type": "code",
   "execution_count": 3,
   "metadata": {},
   "outputs": [],
   "source": [
    "# https://github.com/mortada/fredapi\n",
    "fred = Fred(api_key=\"a02df0a22c57860f5f7cf25edc70ffb3\")\n",
    "quandl.ApiConfig.api_key = \"QZLZXdHDDPZna9Yw48NP\""
   ]
  },
  {
   "cell_type": "markdown",
   "metadata": {},
   "source": [
    "### National Analysis\n",
    "\n",
    "Define the variables to be used in analysis:\n",
    "\n",
    "X Attributes:\n",
    "* *Monthly* Stocks\n",
    "    * S&P 500 (MULTPL/SP500_REAL_PRICE_MONTH)\n",
    "* *Quarterly* Gross Domestic Product (GDP)\n",
    "* *Annual* Age Dependency Ratio (SPPOPDPNDOLUSA)\n",
    "    * Ratio of Older Dependents to Working-Age Population for the United States\n",
    "* *Monthly* Civilian Noninstitutional Population\n",
    "    * Population who are not inmates of institutions (penal, mental facilities, homes for the aged), and who are not on active duty in the Armed Forces\n",
    "        * 20 to 24 years (LNU00000036)\n",
    "        * 25 to 54 years (LNU00000060)\n",
    "        * 55 years and over (LNU00024230)\n",
    "* *Monthly* Unemployment Rate (UNRATE)\n",
    "* *Quarterly* Homeownership Rate for the United States (RHORUSQ156N)\n",
    "* *Annual* Home Vacancy Rate for the United States (USHVAC)\n",
    "\n",
    "y:\n",
    "* *Monthly* Case-Shiller U.S. National Home Price Index (CSUSHPINSA)"
   ]
  },
  {
   "cell_type": "markdown",
   "metadata": {},
   "source": [
    "Connect to APIs and create a dataframe with information from each dataset:"
   ]
  },
  {
   "cell_type": "code",
   "execution_count": 4,
   "metadata": {},
   "outputs": [],
   "source": [
    "def get_info(names):\n",
    "    data = []\n",
    "    for i in range(len(names)):\n",
    "        data.append(fred.get_series(names[i]).to_frame().rename(columns={0:names[i]}))\n",
    "        data[i] = data[i].groupby(data[i].index.year).mean().dropna()\n",
    "    return data"
   ]
  },
  {
   "cell_type": "code",
   "execution_count": 5,
   "metadata": {},
   "outputs": [],
   "source": [
    "sp500 = quandl.get('MULTPL/SP500_REAL_PRICE_MONTH').rename(columns={'Value':'SP500'})\n",
    "names = [\"GDP\", \"SPPOPDPNDOLUSA\", \"LNU00000036\", \"LNU00000060\", \"LNU00024230\", \"UNRATE\", \"RHORUSQ156N\", \"USHVAC\"]\n",
    "sp500 = sp500.groupby(sp500.index.year).mean().dropna()\n",
    "us_data_series = get_info(names) + [sp500]"
   ]
  },
  {
   "cell_type": "code",
   "execution_count": 6,
   "metadata": {},
   "outputs": [],
   "source": [
    "usHPI = fred.get_series('CSUSHPINSA').to_frame().rename(columns={0:'CSUSHPINSA'})\n",
    "usHPI_annual = usHPI.groupby(usHPI.index.year).mean().dropna()"
   ]
  },
  {
   "cell_type": "code",
   "execution_count": 7,
   "metadata": {
    "scrolled": true
   },
   "outputs": [
    {
     "data": {
      "text/html": [
       "<div>\n",
       "<style scoped>\n",
       "    .dataframe tbody tr th:only-of-type {\n",
       "        vertical-align: middle;\n",
       "    }\n",
       "\n",
       "    .dataframe tbody tr th {\n",
       "        vertical-align: top;\n",
       "    }\n",
       "\n",
       "    .dataframe thead th {\n",
       "        text-align: right;\n",
       "    }\n",
       "</style>\n",
       "<table border=\"1\" class=\"dataframe\">\n",
       "  <thead>\n",
       "    <tr style=\"text-align: right;\">\n",
       "      <th></th>\n",
       "      <th>CSUSHPINSA</th>\n",
       "      <th>GDP</th>\n",
       "      <th>SPPOPDPNDOLUSA</th>\n",
       "      <th>LNU00000036</th>\n",
       "      <th>LNU00000060</th>\n",
       "      <th>LNU00024230</th>\n",
       "      <th>UNRATE</th>\n",
       "      <th>RHORUSQ156N</th>\n",
       "      <th>USHVAC</th>\n",
       "      <th>SP500</th>\n",
       "    </tr>\n",
       "  </thead>\n",
       "  <tbody>\n",
       "    <tr>\n",
       "      <th>2014</th>\n",
       "      <td>164.699833</td>\n",
       "      <td>17527.25825</td>\n",
       "      <td>21.514698</td>\n",
       "      <td>22079.500000</td>\n",
       "      <td>124510.583333</td>\n",
       "      <td>84723.500000</td>\n",
       "      <td>6.158333</td>\n",
       "      <td>64.475</td>\n",
       "      <td>1.9</td>\n",
       "      <td>1930.667500</td>\n",
       "    </tr>\n",
       "    <tr>\n",
       "      <th>2015</th>\n",
       "      <td>172.211417</td>\n",
       "      <td>18224.78025</td>\n",
       "      <td>22.141440</td>\n",
       "      <td>21970.916667</td>\n",
       "      <td>125108.666667</td>\n",
       "      <td>87102.333333</td>\n",
       "      <td>5.275000</td>\n",
       "      <td>63.650</td>\n",
       "      <td>1.8</td>\n",
       "      <td>2061.199167</td>\n",
       "    </tr>\n",
       "    <tr>\n",
       "      <th>2016</th>\n",
       "      <td>180.984333</td>\n",
       "      <td>18715.04050</td>\n",
       "      <td>22.797998</td>\n",
       "      <td>21720.666667</td>\n",
       "      <td>125760.583333</td>\n",
       "      <td>89342.416667</td>\n",
       "      <td>4.875000</td>\n",
       "      <td>63.400</td>\n",
       "      <td>1.7</td>\n",
       "      <td>2091.844167</td>\n",
       "    </tr>\n",
       "    <tr>\n",
       "      <th>2017</th>\n",
       "      <td>191.519250</td>\n",
       "      <td>19519.42350</td>\n",
       "      <td>23.461460</td>\n",
       "      <td>21395.750000</td>\n",
       "      <td>125696.916667</td>\n",
       "      <td>91232.166667</td>\n",
       "      <td>4.350000</td>\n",
       "      <td>63.850</td>\n",
       "      <td>1.6</td>\n",
       "      <td>2448.217500</td>\n",
       "    </tr>\n",
       "    <tr>\n",
       "      <th>2018</th>\n",
       "      <td>202.666667</td>\n",
       "      <td>20580.22300</td>\n",
       "      <td>24.139975</td>\n",
       "      <td>21239.166667</td>\n",
       "      <td>126390.000000</td>\n",
       "      <td>93396.666667</td>\n",
       "      <td>3.891667</td>\n",
       "      <td>64.425</td>\n",
       "      <td>1.5</td>\n",
       "      <td>2744.680000</td>\n",
       "    </tr>\n",
       "  </tbody>\n",
       "</table>\n",
       "</div>"
      ],
      "text/plain": [
       "      CSUSHPINSA          GDP  SPPOPDPNDOLUSA   LNU00000036    LNU00000060  \\\n",
       "2014  164.699833  17527.25825       21.514698  22079.500000  124510.583333   \n",
       "2015  172.211417  18224.78025       22.141440  21970.916667  125108.666667   \n",
       "2016  180.984333  18715.04050       22.797998  21720.666667  125760.583333   \n",
       "2017  191.519250  19519.42350       23.461460  21395.750000  125696.916667   \n",
       "2018  202.666667  20580.22300       24.139975  21239.166667  126390.000000   \n",
       "\n",
       "       LNU00024230    UNRATE  RHORUSQ156N  USHVAC        SP500  \n",
       "2014  84723.500000  6.158333       64.475     1.9  1930.667500  \n",
       "2015  87102.333333  5.275000       63.650     1.8  2061.199167  \n",
       "2016  89342.416667  4.875000       63.400     1.7  2091.844167  \n",
       "2017  91232.166667  4.350000       63.850     1.6  2448.217500  \n",
       "2018  93396.666667  3.891667       64.425     1.5  2744.680000  "
      ]
     },
     "execution_count": 7,
     "metadata": {},
     "output_type": "execute_result"
    }
   ],
   "source": [
    "us_annual = usHPI_annual.copy()\n",
    "for df in us_data_series:\n",
    "    us_annual = us_annual.merge(df, left_index=True, right_index=True)\n",
    "us_annual.tail()"
   ]
  },
  {
   "cell_type": "markdown",
   "metadata": {},
   "source": [
    "Analyze the correlation coefficient for each indicator we have specified:"
   ]
  },
  {
   "cell_type": "code",
   "execution_count": 8,
   "metadata": {
    "scrolled": true
   },
   "outputs": [
    {
     "data": {
      "text/plain": [
       "<matplotlib.axes._subplots.AxesSubplot at 0x11d38f0b8>"
      ]
     },
     "execution_count": 8,
     "metadata": {},
     "output_type": "execute_result"
    },
    {
     "data": {
      "image/png": "[encoded data removed]",
      "text/plain": [
       "<Figure size 432x288 with 2 Axes>"
      ]
     },
     "metadata": {
      "needs_background": "light"
     },
     "output_type": "display_data"
    }
   ],
   "source": [
    "corr = us_annual.corr().round(4)\n",
    "sns.heatmap(data=corr)"
   ]
  },
  {
   "cell_type": "code",
   "execution_count": 9,
   "metadata": {},
   "outputs": [
    {
     "data": {
      "text/html": [
       "<div>\n",
       "<style scoped>\n",
       "    .dataframe tbody tr th:only-of-type {\n",
       "        vertical-align: middle;\n",
       "    }\n",
       "\n",
       "    .dataframe tbody tr th {\n",
       "        vertical-align: top;\n",
       "    }\n",
       "\n",
       "    .dataframe thead th {\n",
       "        text-align: right;\n",
       "    }\n",
       "</style>\n",
       "<table border=\"1\" class=\"dataframe\">\n",
       "  <thead>\n",
       "    <tr style=\"text-align: right;\">\n",
       "      <th></th>\n",
       "      <th>CSUSHPINSA</th>\n",
       "      <th>GDP</th>\n",
       "      <th>SPPOPDPNDOLUSA</th>\n",
       "      <th>LNU00000036</th>\n",
       "      <th>LNU00000060</th>\n",
       "      <th>LNU00024230</th>\n",
       "      <th>UNRATE</th>\n",
       "      <th>RHORUSQ156N</th>\n",
       "      <th>USHVAC</th>\n",
       "      <th>SP500</th>\n",
       "    </tr>\n",
       "  </thead>\n",
       "  <tbody>\n",
       "    <tr>\n",
       "      <th>CSUSHPINSA</th>\n",
       "      <td>1.0000</td>\n",
       "      <td>0.9406</td>\n",
       "      <td>0.5246</td>\n",
       "      <td>0.8381</td>\n",
       "      <td>0.8647</td>\n",
       "      <td>0.8925</td>\n",
       "      <td>-0.0822</td>\n",
       "      <td>0.3273</td>\n",
       "      <td>0.4852</td>\n",
       "      <td>0.8625</td>\n",
       "    </tr>\n",
       "    <tr>\n",
       "      <th>GDP</th>\n",
       "      <td>0.9406</td>\n",
       "      <td>1.0000</td>\n",
       "      <td>0.6828</td>\n",
       "      <td>0.8786</td>\n",
       "      <td>0.8790</td>\n",
       "      <td>0.9803</td>\n",
       "      <td>0.0329</td>\n",
       "      <td>0.1456</td>\n",
       "      <td>0.4091</td>\n",
       "      <td>0.9273</td>\n",
       "    </tr>\n",
       "    <tr>\n",
       "      <th>SPPOPDPNDOLUSA</th>\n",
       "      <td>0.5246</td>\n",
       "      <td>0.6828</td>\n",
       "      <td>1.0000</td>\n",
       "      <td>0.5923</td>\n",
       "      <td>0.3385</td>\n",
       "      <td>0.7784</td>\n",
       "      <td>-0.1147</td>\n",
       "      <td>-0.5667</td>\n",
       "      <td>-0.1954</td>\n",
       "      <td>0.7486</td>\n",
       "    </tr>\n",
       "    <tr>\n",
       "      <th>LNU00000036</th>\n",
       "      <td>0.8381</td>\n",
       "      <td>0.8786</td>\n",
       "      <td>0.5923</td>\n",
       "      <td>1.0000</td>\n",
       "      <td>0.6701</td>\n",
       "      <td>0.9102</td>\n",
       "      <td>0.3076</td>\n",
       "      <td>0.0230</td>\n",
       "      <td>0.4634</td>\n",
       "      <td>0.7108</td>\n",
       "    </tr>\n",
       "    <tr>\n",
       "      <th>LNU00000060</th>\n",
       "      <td>0.8647</td>\n",
       "      <td>0.8790</td>\n",
       "      <td>0.3385</td>\n",
       "      <td>0.6701</td>\n",
       "      <td>1.0000</td>\n",
       "      <td>0.7739</td>\n",
       "      <td>0.0195</td>\n",
       "      <td>0.5224</td>\n",
       "      <td>0.4850</td>\n",
       "      <td>0.7962</td>\n",
       "    </tr>\n",
       "    <tr>\n",
       "      <th>LNU00024230</th>\n",
       "      <td>0.8925</td>\n",
       "      <td>0.9803</td>\n",
       "      <td>0.7784</td>\n",
       "      <td>0.9102</td>\n",
       "      <td>0.7739</td>\n",
       "      <td>1.0000</td>\n",
       "      <td>0.0788</td>\n",
       "      <td>-0.0291</td>\n",
       "      <td>0.3401</td>\n",
       "      <td>0.9061</td>\n",
       "    </tr>\n",
       "    <tr>\n",
       "      <th>UNRATE</th>\n",
       "      <td>-0.0822</td>\n",
       "      <td>0.0329</td>\n",
       "      <td>-0.1147</td>\n",
       "      <td>0.3076</td>\n",
       "      <td>0.0195</td>\n",
       "      <td>0.0788</td>\n",
       "      <td>1.0000</td>\n",
       "      <td>-0.0467</td>\n",
       "      <td>0.4216</td>\n",
       "      <td>-0.2786</td>\n",
       "    </tr>\n",
       "    <tr>\n",
       "      <th>RHORUSQ156N</th>\n",
       "      <td>0.3273</td>\n",
       "      <td>0.1456</td>\n",
       "      <td>-0.5667</td>\n",
       "      <td>0.0230</td>\n",
       "      <td>0.5224</td>\n",
       "      <td>-0.0291</td>\n",
       "      <td>-0.0467</td>\n",
       "      <td>1.0000</td>\n",
       "      <td>0.5031</td>\n",
       "      <td>0.0750</td>\n",
       "    </tr>\n",
       "    <tr>\n",
       "      <th>USHVAC</th>\n",
       "      <td>0.4852</td>\n",
       "      <td>0.4091</td>\n",
       "      <td>-0.1954</td>\n",
       "      <td>0.4634</td>\n",
       "      <td>0.4850</td>\n",
       "      <td>0.3401</td>\n",
       "      <td>0.4216</td>\n",
       "      <td>0.5031</td>\n",
       "      <td>1.0000</td>\n",
       "      <td>0.1585</td>\n",
       "    </tr>\n",
       "    <tr>\n",
       "      <th>SP500</th>\n",
       "      <td>0.8625</td>\n",
       "      <td>0.9273</td>\n",
       "      <td>0.7486</td>\n",
       "      <td>0.7108</td>\n",
       "      <td>0.7962</td>\n",
       "      <td>0.9061</td>\n",
       "      <td>-0.2786</td>\n",
       "      <td>0.0750</td>\n",
       "      <td>0.1585</td>\n",
       "      <td>1.0000</td>\n",
       "    </tr>\n",
       "  </tbody>\n",
       "</table>\n",
       "</div>"
      ],
      "text/plain": [
       "                CSUSHPINSA     GDP  SPPOPDPNDOLUSA  LNU00000036  LNU00000060  \\\n",
       "CSUSHPINSA          1.0000  0.9406          0.5246       0.8381       0.8647   \n",
       "GDP                 0.9406  1.0000          0.6828       0.8786       0.8790   \n",
       "SPPOPDPNDOLUSA      0.5246  0.6828          1.0000       0.5923       0.3385   \n",
       "LNU00000036         0.8381  0.8786          0.5923       1.0000       0.6701   \n",
       "LNU00000060         0.8647  0.8790          0.3385       0.6701       1.0000   \n",
       "LNU00024230         0.8925  0.9803          0.7784       0.9102       0.7739   \n",
       "UNRATE             -0.0822  0.0329         -0.1147       0.3076       0.0195   \n",
       "RHORUSQ156N         0.3273  0.1456         -0.5667       0.0230       0.5224   \n",
       "USHVAC              0.4852  0.4091         -0.1954       0.4634       0.4850   \n",
       "SP500               0.8625  0.9273          0.7486       0.7108       0.7962   \n",
       "\n",
       "                LNU00024230  UNRATE  RHORUSQ156N  USHVAC   SP500  \n",
       "CSUSHPINSA           0.8925 -0.0822       0.3273  0.4852  0.8625  \n",
       "GDP                  0.9803  0.0329       0.1456  0.4091  0.9273  \n",
       "SPPOPDPNDOLUSA       0.7784 -0.1147      -0.5667 -0.1954  0.7486  \n",
       "LNU00000036          0.9102  0.3076       0.0230  0.4634  0.7108  \n",
       "LNU00000060          0.7739  0.0195       0.5224  0.4850  0.7962  \n",
       "LNU00024230          1.0000  0.0788      -0.0291  0.3401  0.9061  \n",
       "UNRATE               0.0788  1.0000      -0.0467  0.4216 -0.2786  \n",
       "RHORUSQ156N         -0.0291 -0.0467       1.0000  0.5031  0.0750  \n",
       "USHVAC               0.3401  0.4216       0.5031  1.0000  0.1585  \n",
       "SP500                0.9061 -0.2786       0.0750  0.1585  1.0000  "
      ]
     },
     "execution_count": 9,
     "metadata": {},
     "output_type": "execute_result"
    }
   ],
   "source": [
    "corr"
   ]
  },
  {
   "cell_type": "markdown",
   "metadata": {},
   "source": [
    "Create a model using linear regression to express the Case-Schiller index as dependent on the other datasets we have downloaded:"
   ]
  },
  {
   "cell_type": "code",
   "execution_count": 10,
   "metadata": {},
   "outputs": [
    {
     "data": {
      "text/plain": [
       "LinearRegression(copy_X=True, fit_intercept=True, n_jobs=None, normalize=False)"
      ]
     },
     "execution_count": 10,
     "metadata": {},
     "output_type": "execute_result"
    }
   ],
   "source": [
    "X = us_annual.drop(columns=['CSUSHPINSA'], axis=1)\n",
    "Y = us_annual['CSUSHPINSA']\n",
    "X_train, X_test, Y_train, Y_test = train_test_split(X, Y, test_size = 0.2, random_state=5)\n",
    "lin_model = LinearRegression()\n",
    "lin_model.fit(X_train, Y_train)"
   ]
  },
  {
   "cell_type": "code",
   "execution_count": 11,
   "metadata": {
    "scrolled": true
   },
   "outputs": [
    {
     "name": "stdout",
     "output_type": "stream",
     "text": [
      "The model performance for training set\n",
      "--------------------------------------\n",
      "Root Mean Squared Error is 4.347607380219566\n",
      "R2 score is 0.9893143554524647\n",
      "\n",
      "\n",
      "The model performance for testing set\n",
      "--------------------------------------\n",
      "Root Mean Squared Error is 10.188044637012396\n",
      "R2 score is 0.9468582800978659\n"
     ]
    }
   ],
   "source": [
    "# model evaluation for training set\n",
    "y_train_predict = lin_model.predict(X_train)\n",
    "rmse = (np.sqrt(mean_squared_error(Y_train, y_train_predict)))\n",
    "r2 = r2_score(Y_train, y_train_predict)\n",
    "\n",
    "print(\"The model performance for training set\")\n",
    "print(\"--------------------------------------\")\n",
    "print('Root Mean Squared Error is {}'.format(rmse))\n",
    "print('R2 score is {}'.format(r2))\n",
    "print(\"\\n\")\n",
    "\n",
    "# model evaluation for testing set\n",
    "y_test_predict = lin_model.predict(X_test)\n",
    "rmse = (np.sqrt(mean_squared_error(Y_test, y_test_predict)))\n",
    "r2 = r2_score(Y_test, y_test_predict)\n",
    "\n",
    "print(\"The model performance for testing set\")\n",
    "print(\"--------------------------------------\")\n",
    "print('Root Mean Squared Error is {}'.format(rmse))\n",
    "print('R2 score is {}'.format(r2))"
   ]
  }
 ],
 "metadata": {
  "kernelspec": {
   "display_name": "Python 3",
   "language": "python",
   "name": "python3"
  },
  "language_info": {
   "codemirror_mode": {
    "name": "ipython",
    "version": 3
   },
   "file_extension": ".py",
   "mimetype": "text/x-python",
   "name": "python",
   "nbconvert_exporter": "python",
   "pygments_lexer": "ipython3",
   "version": "3.7.3"
  }
 },
 "nbformat": 4,
 "nbformat_minor": 2
}
