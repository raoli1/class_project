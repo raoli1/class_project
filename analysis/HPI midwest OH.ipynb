{
 "cells": [
  {
   "cell_type": "code",
   "execution_count": 1,
   "metadata": {},
   "outputs": [],
   "source": [
    "from sklearn.model_selection import train_test_split\n",
    "from sklearn.linear_model import LinearRegression\n",
    "from sklearn.metrics import mean_squared_error, r2_score"
   ]
  },
  {
   "cell_type": "code",
   "execution_count": 2,
   "metadata": {},
   "outputs": [],
   "source": [
    "import numpy as np, pandas as pd, matplotlib.pyplot as plt, seaborn as sns\n",
    "from datetime import datetime, timedelta\n",
    "from fredapi import Fred\n",
    "import quandl"
   ]
  },
  {
   "cell_type": "code",
   "execution_count": 3,
   "metadata": {},
   "outputs": [],
   "source": [
    "def get_info(names):\n",
    "    data = []\n",
    "    for i in range(len(names)):\n",
    "        data.append(fred.get_series(names[i]).to_frame().rename(columns={0:names[i]}))\n",
    "        data[i] = data[i].groupby(data[i].index.year).mean().dropna()\n",
    "    return data"
   ]
  },
  {
   "cell_type": "code",
   "execution_count": 4,
   "metadata": {},
   "outputs": [],
   "source": [
    "# https://github.com/mortada/fredapi\n",
    "fred = Fred(api_key=\"a02df0a22c57860f5f7cf25edc70ffb3\")\n",
    "quandl.ApiConfig.api_key = \"QZLZXdHDDPZna9Yw48NP\""
   ]
  },
  {
   "cell_type": "markdown",
   "metadata": {},
   "source": [
    "# Midwest - Ohio"
   ]
  },
  {
   "cell_type": "markdown",
   "metadata": {},
   "source": [
    "Define the variables to be used in analysis:\n",
    "\n",
    "X attributes:\n",
    "\n",
    " - *Monthly* Stocks\n",
    "     - S&P 500 (MULTPL/SP500_REAL_PRICE_MONTH)\n",
    " - *Quarterly* GDP (GDP)\n",
    " - *Annual* Unemployment Rate (LAUST390000000000003A)\n",
    " - *Annual* House Ownership Ratio (OHHOWN)\n",
    " - *Annual* Resident Population (OHPOP)\n",
    " - *Annual* Median Income Rate (MEHOINUSOHA672N)\n",
    " - *Annual* Home Vacancy Rate (OHHVAC)\n",
    "\n",
    "y attributes:\n",
    "\n",
    " - *Quarterly* Ohio State Housing Price Index (OHSTHPI)"
   ]
  },
  {
   "cell_type": "markdown",
   "metadata": {},
   "source": [
    "Connect to APIs and create a dataframe with information on each dataset:"
   ]
  },
  {
   "cell_type": "code",
   "execution_count": 5,
   "metadata": {
    "scrolled": true
   },
   "outputs": [],
   "source": [
    "sp500 = quandl.get('MULTPL/SP500_REAL_PRICE_MONTH').rename(columns={'Value':'SP500'})\n",
    "sp500 = sp500.groupby(sp500.index.year).mean().dropna()\n",
    "names_oh = ['LAUST390000000000003A', \"OHHOWN\",\"OHPOP\", \"MEHOINUSOHA672N\", \"OHHVAC\", \"GDP\"]\n",
    "oh_data_series = get_info(names_oh) + [sp500]"
   ]
  },
  {
   "cell_type": "code",
   "execution_count": 6,
   "metadata": {},
   "outputs": [],
   "source": [
    "# quarterly housing price index\n",
    "ohHPI = fred.get_series('OHSTHPI').to_frame()\n",
    "ohHPI.index.name = \"DATE\"\n",
    "ohHPI = ohHPI.rename(columns={0:\"OHSTHPI\"})\n",
    "# convert to annual\n",
    "ohHPI_annual = ohHPI.groupby(ohHPI.index.year).mean()"
   ]
  },
  {
   "cell_type": "code",
   "execution_count": 7,
   "metadata": {},
   "outputs": [
    {
     "data": {
      "text/html": [
       "<div>\n",
       "<style scoped>\n",
       "    .dataframe tbody tr th:only-of-type {\n",
       "        vertical-align: middle;\n",
       "    }\n",
       "\n",
       "    .dataframe tbody tr th {\n",
       "        vertical-align: top;\n",
       "    }\n",
       "\n",
       "    .dataframe thead th {\n",
       "        text-align: right;\n",
       "    }\n",
       "</style>\n",
       "<table border=\"1\" class=\"dataframe\">\n",
       "  <thead>\n",
       "    <tr style=\"text-align: right;\">\n",
       "      <th></th>\n",
       "      <th>OHSTHPI</th>\n",
       "      <th>LAUST390000000000003A</th>\n",
       "      <th>OHHOWN</th>\n",
       "      <th>OHPOP</th>\n",
       "      <th>MEHOINUSOHA672N</th>\n",
       "      <th>OHHVAC</th>\n",
       "      <th>GDP</th>\n",
       "      <th>SP500</th>\n",
       "    </tr>\n",
       "  </thead>\n",
       "  <tbody>\n",
       "    <tr>\n",
       "      <th>2014</th>\n",
       "      <td>241.2700</td>\n",
       "      <td>5.8</td>\n",
       "      <td>67.3</td>\n",
       "      <td>11602.973</td>\n",
       "      <td>52708.0</td>\n",
       "      <td>1.6</td>\n",
       "      <td>17527.25825</td>\n",
       "      <td>1930.667500</td>\n",
       "    </tr>\n",
       "    <tr>\n",
       "      <th>2015</th>\n",
       "      <td>250.8625</td>\n",
       "      <td>4.9</td>\n",
       "      <td>66.4</td>\n",
       "      <td>11617.850</td>\n",
       "      <td>56494.0</td>\n",
       "      <td>1.8</td>\n",
       "      <td>18224.78025</td>\n",
       "      <td>2061.199167</td>\n",
       "    </tr>\n",
       "    <tr>\n",
       "      <th>2016</th>\n",
       "      <td>261.2600</td>\n",
       "      <td>5.0</td>\n",
       "      <td>66.1</td>\n",
       "      <td>11635.003</td>\n",
       "      <td>56490.0</td>\n",
       "      <td>1.5</td>\n",
       "      <td>18715.04050</td>\n",
       "      <td>2091.844167</td>\n",
       "    </tr>\n",
       "    <tr>\n",
       "      <th>2017</th>\n",
       "      <td>274.8250</td>\n",
       "      <td>5.0</td>\n",
       "      <td>66.0</td>\n",
       "      <td>11664.129</td>\n",
       "      <td>62167.0</td>\n",
       "      <td>1.4</td>\n",
       "      <td>19519.42350</td>\n",
       "      <td>2448.217500</td>\n",
       "    </tr>\n",
       "    <tr>\n",
       "      <th>2018</th>\n",
       "      <td>291.9225</td>\n",
       "      <td>4.6</td>\n",
       "      <td>67.3</td>\n",
       "      <td>11689.442</td>\n",
       "      <td>61633.0</td>\n",
       "      <td>1.1</td>\n",
       "      <td>20580.22300</td>\n",
       "      <td>2744.680000</td>\n",
       "    </tr>\n",
       "  </tbody>\n",
       "</table>\n",
       "</div>"
      ],
      "text/plain": [
       "       OHSTHPI  LAUST390000000000003A  OHHOWN      OHPOP  MEHOINUSOHA672N  \\\n",
       "2014  241.2700                    5.8    67.3  11602.973          52708.0   \n",
       "2015  250.8625                    4.9    66.4  11617.850          56494.0   \n",
       "2016  261.2600                    5.0    66.1  11635.003          56490.0   \n",
       "2017  274.8250                    5.0    66.0  11664.129          62167.0   \n",
       "2018  291.9225                    4.6    67.3  11689.442          61633.0   \n",
       "\n",
       "      OHHVAC          GDP        SP500  \n",
       "2014     1.6  17527.25825  1930.667500  \n",
       "2015     1.8  18224.78025  2061.199167  \n",
       "2016     1.5  18715.04050  2091.844167  \n",
       "2017     1.4  19519.42350  2448.217500  \n",
       "2018     1.1  20580.22300  2744.680000  "
      ]
     },
     "execution_count": 7,
     "metadata": {},
     "output_type": "execute_result"
    }
   ],
   "source": [
    "oh_annual = ohHPI_annual.copy()\n",
    "for df in oh_data_series:\n",
    "    oh_annual = oh_annual.merge(df, left_index=True, right_index=True)\n",
    "oh_annual.tail()"
   ]
  },
  {
   "cell_type": "code",
   "execution_count": null,
   "metadata": {},
   "outputs": [],
   "source": [
    "Analyze the correlation coefficient for each indicator we have specified:"
   ]
  },
  {
   "cell_type": "code",
   "execution_count": 8,
   "metadata": {},
   "outputs": [
    {
     "data": {
      "text/plain": [
       "<matplotlib.axes._subplots.AxesSubplot at 0x12b786978>"
      ]
     },
     "execution_count": 8,
     "metadata": {},
     "output_type": "execute_result"
    },
    {
     "data": {
      "image/png": "[encoded data removed]",
      "text/plain": [
       "<Figure size 432x288 with 2 Axes>"
      ]
     },
     "metadata": {
      "needs_background": "light"
     },
     "output_type": "display_data"
    }
   ],
   "source": [
    "corr = oh_annual.corr().round(4)\n",
    "sns.heatmap(data=corr)"
   ]
  },
  {
   "cell_type": "code",
   "execution_count": 9,
   "metadata": {},
   "outputs": [
    {
     "data": {
      "text/html": [
       "<div>\n",
       "<style scoped>\n",
       "    .dataframe tbody tr th:only-of-type {\n",
       "        vertical-align: middle;\n",
       "    }\n",
       "\n",
       "    .dataframe tbody tr th {\n",
       "        vertical-align: top;\n",
       "    }\n",
       "\n",
       "    .dataframe thead th {\n",
       "        text-align: right;\n",
       "    }\n",
       "</style>\n",
       "<table border=\"1\" class=\"dataframe\">\n",
       "  <thead>\n",
       "    <tr style=\"text-align: right;\">\n",
       "      <th></th>\n",
       "      <th>OHSTHPI</th>\n",
       "      <th>LAUST390000000000003A</th>\n",
       "      <th>OHHOWN</th>\n",
       "      <th>OHPOP</th>\n",
       "      <th>MEHOINUSOHA672N</th>\n",
       "      <th>OHHVAC</th>\n",
       "      <th>GDP</th>\n",
       "      <th>SP500</th>\n",
       "    </tr>\n",
       "  </thead>\n",
       "  <tbody>\n",
       "    <tr>\n",
       "      <th>OHSTHPI</th>\n",
       "      <td>1.0000</td>\n",
       "      <td>-0.0742</td>\n",
       "      <td>0.1842</td>\n",
       "      <td>0.9685</td>\n",
       "      <td>0.2553</td>\n",
       "      <td>0.6238</td>\n",
       "      <td>0.9003</td>\n",
       "      <td>0.8491</td>\n",
       "    </tr>\n",
       "    <tr>\n",
       "      <th>LAUST390000000000003A</th>\n",
       "      <td>-0.0742</td>\n",
       "      <td>1.0000</td>\n",
       "      <td>-0.0379</td>\n",
       "      <td>-0.0087</td>\n",
       "      <td>-0.6591</td>\n",
       "      <td>0.5090</td>\n",
       "      <td>0.0432</td>\n",
       "      <td>-0.2486</td>\n",
       "    </tr>\n",
       "    <tr>\n",
       "      <th>OHHOWN</th>\n",
       "      <td>0.1842</td>\n",
       "      <td>-0.0379</td>\n",
       "      <td>1.0000</td>\n",
       "      <td>0.0100</td>\n",
       "      <td>0.3062</td>\n",
       "      <td>0.4048</td>\n",
       "      <td>-0.2085</td>\n",
       "      <td>-0.2276</td>\n",
       "    </tr>\n",
       "    <tr>\n",
       "      <th>OHPOP</th>\n",
       "      <td>0.9685</td>\n",
       "      <td>-0.0087</td>\n",
       "      <td>0.0100</td>\n",
       "      <td>1.0000</td>\n",
       "      <td>0.1139</td>\n",
       "      <td>0.5793</td>\n",
       "      <td>0.9460</td>\n",
       "      <td>0.8743</td>\n",
       "    </tr>\n",
       "    <tr>\n",
       "      <th>MEHOINUSOHA672N</th>\n",
       "      <td>0.2553</td>\n",
       "      <td>-0.6591</td>\n",
       "      <td>0.3062</td>\n",
       "      <td>0.1139</td>\n",
       "      <td>1.0000</td>\n",
       "      <td>-0.1700</td>\n",
       "      <td>0.0536</td>\n",
       "      <td>0.3208</td>\n",
       "    </tr>\n",
       "    <tr>\n",
       "      <th>OHHVAC</th>\n",
       "      <td>0.6238</td>\n",
       "      <td>0.5090</td>\n",
       "      <td>0.4048</td>\n",
       "      <td>0.5793</td>\n",
       "      <td>-0.1700</td>\n",
       "      <td>1.0000</td>\n",
       "      <td>0.5127</td>\n",
       "      <td>0.2704</td>\n",
       "    </tr>\n",
       "    <tr>\n",
       "      <th>GDP</th>\n",
       "      <td>0.9003</td>\n",
       "      <td>0.0432</td>\n",
       "      <td>-0.2085</td>\n",
       "      <td>0.9460</td>\n",
       "      <td>0.0536</td>\n",
       "      <td>0.5127</td>\n",
       "      <td>1.0000</td>\n",
       "      <td>0.9316</td>\n",
       "    </tr>\n",
       "    <tr>\n",
       "      <th>SP500</th>\n",
       "      <td>0.8491</td>\n",
       "      <td>-0.2486</td>\n",
       "      <td>-0.2276</td>\n",
       "      <td>0.8743</td>\n",
       "      <td>0.3208</td>\n",
       "      <td>0.2704</td>\n",
       "      <td>0.9316</td>\n",
       "      <td>1.0000</td>\n",
       "    </tr>\n",
       "  </tbody>\n",
       "</table>\n",
       "</div>"
      ],
      "text/plain": [
       "                       OHSTHPI  LAUST390000000000003A  OHHOWN   OHPOP  \\\n",
       "OHSTHPI                 1.0000                -0.0742  0.1842  0.9685   \n",
       "LAUST390000000000003A  -0.0742                 1.0000 -0.0379 -0.0087   \n",
       "OHHOWN                  0.1842                -0.0379  1.0000  0.0100   \n",
       "OHPOP                   0.9685                -0.0087  0.0100  1.0000   \n",
       "MEHOINUSOHA672N         0.2553                -0.6591  0.3062  0.1139   \n",
       "OHHVAC                  0.6238                 0.5090  0.4048  0.5793   \n",
       "GDP                     0.9003                 0.0432 -0.2085  0.9460   \n",
       "SP500                   0.8491                -0.2486 -0.2276  0.8743   \n",
       "\n",
       "                       MEHOINUSOHA672N  OHHVAC     GDP   SP500  \n",
       "OHSTHPI                         0.2553  0.6238  0.9003  0.8491  \n",
       "LAUST390000000000003A          -0.6591  0.5090  0.0432 -0.2486  \n",
       "OHHOWN                          0.3062  0.4048 -0.2085 -0.2276  \n",
       "OHPOP                           0.1139  0.5793  0.9460  0.8743  \n",
       "MEHOINUSOHA672N                 1.0000 -0.1700  0.0536  0.3208  \n",
       "OHHVAC                         -0.1700  1.0000  0.5127  0.2704  \n",
       "GDP                             0.0536  0.5127  1.0000  0.9316  \n",
       "SP500                           0.3208  0.2704  0.9316  1.0000  "
      ]
     },
     "execution_count": 9,
     "metadata": {},
     "output_type": "execute_result"
    }
   ],
   "source": [
    "corr"
   ]
  },
  {
   "cell_type": "markdown",
   "metadata": {},
   "source": [
    "Create a model using linear regression to express the Housing Price Index as dependent on the other datasets we have downloaded:"
   ]
  },
  {
   "cell_type": "code",
   "execution_count": 10,
   "metadata": {},
   "outputs": [
    {
     "data": {
      "text/plain": [
       "LinearRegression(copy_X=True, fit_intercept=True, n_jobs=None, normalize=False)"
      ]
     },
     "execution_count": 10,
     "metadata": {},
     "output_type": "execute_result"
    }
   ],
   "source": [
    "X = oh_annual.drop(columns=['OHSTHPI'], axis=1)\n",
    "Y = oh_annual['OHSTHPI']\n",
    "X_train, X_test, Y_train, Y_test = train_test_split(X, Y, test_size = 0.2, random_state=5)\n",
    "lin_model = LinearRegression()\n",
    "lin_model.fit(X_train, Y_train)"
   ]
  },
  {
   "cell_type": "code",
   "execution_count": 11,
   "metadata": {},
   "outputs": [
    {
     "name": "stdout",
     "output_type": "stream",
     "text": [
      "The model performance for training set\n",
      "--------------------------------------\n",
      "Root Mean Squared Error is 5.797686770566625\n",
      "R-Squared score is 0.9867195090934263\n",
      "\n",
      "\n",
      "The model performance for testing set\n",
      "--------------------------------------\n",
      "Root Mean Squared Error is 5.249607745741014\n",
      "R-Squared score is 0.9871061552359773\n"
     ]
    }
   ],
   "source": [
    "# model evaluation for training set\n",
    "y_train_predict = lin_model.predict(X_train)\n",
    "rmse = (np.sqrt(mean_squared_error(Y_train, y_train_predict)))\n",
    "r2 = r2_score(Y_train, y_train_predict)\n",
    "\n",
    "print(\"The model performance for training set\")\n",
    "print(\"--------------------------------------\")\n",
    "print('Root Mean Squared Error is {}'.format(rmse))\n",
    "print('R-Squared score is {}'.format(r2))\n",
    "print(\"\\n\")\n",
    "\n",
    "# model evaluation for testing set\n",
    "y_test_predict = lin_model.predict(X_test)\n",
    "rmse = (np.sqrt(mean_squared_error(Y_test, y_test_predict)))\n",
    "r2 = r2_score(Y_test, y_test_predict)\n",
    "\n",
    "print(\"The model performance for testing set\")\n",
    "print(\"--------------------------------------\")\n",
    "print('Root Mean Squared Error is {}'.format(rmse))\n",
    "print('R-Squared score is {}'.format(r2))"
   ]
  }
 ],
 "metadata": {
  "kernelspec": {
   "display_name": "Python 3",
   "language": "python",
   "name": "python3"
  },
  "language_info": {
   "codemirror_mode": {
    "name": "ipython",
    "version": 3
   },
   "file_extension": ".py",
   "mimetype": "text/x-python",
   "name": "python",
   "nbconvert_exporter": "python",
   "pygments_lexer": "ipython3",
   "version": "3.7.3"
  }
 },
 "nbformat": 4,
 "nbformat_minor": 2
}
