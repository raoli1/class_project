{
 "cells": [
  {
   "cell_type": "code",
   "execution_count": 1,
   "metadata": {},
   "outputs": [],
   "source": [
    "from sklearn.model_selection import train_test_split\n",
    "from sklearn.linear_model import LinearRegression\n",
    "from sklearn.metrics import mean_squared_error, r2_score"
   ]
  },
  {
   "cell_type": "code",
   "execution_count": 2,
   "metadata": {},
   "outputs": [],
   "source": [
    "import numpy as np, pandas as pd, matplotlib.pyplot as plt, seaborn as sns\n",
    "from datetime import datetime, timedelta\n",
    "from fredapi import Fred\n",
    "import quandl"
   ]
  },
  {
   "cell_type": "code",
   "execution_count": 3,
   "metadata": {},
   "outputs": [],
   "source": [
    "def get_info(names):\n",
    "    data = []\n",
    "    for i in range(len(names)):\n",
    "        data.append(fred.get_series(names[i]).to_frame().rename(columns={0:names[i]}))\n",
    "        data[i] = data[i].groupby(data[i].index.year).mean().dropna()\n",
    "    return data"
   ]
  },
  {
   "cell_type": "code",
   "execution_count": 4,
   "metadata": {},
   "outputs": [],
   "source": [
    "# https://github.com/mortada/fredapi\n",
    "fred = Fred(api_key=\"a02df0a22c57860f5f7cf25edc70ffb3\")\n",
    "quandl.ApiConfig.api_key = \"QZLZXdHDDPZna9Yw48NP\""
   ]
  },
  {
   "cell_type": "markdown",
   "metadata": {},
   "source": [
    "# West - California"
   ]
  },
  {
   "cell_type": "markdown",
   "metadata": {},
   "source": [
    "Define the variables to be used in analysis:\n",
    "\n",
    "X attributes:\n",
    " - *Monthly* Stocks\n",
    "     * S&P 500 (MULTPL/SP500_REAL_PRICE_MONTH)\n",
    " - *Quarterly* Gross Domestic Product (GDP)\n",
    " - *Annual* Unemployment Rate (LAUST060000000000003A)\n",
    " - *Annual* House Ownership Ratio (CAHOWN)\n",
    " - *Annual* Resident Population (CAPOP)\n",
    " - *Annual* Median Income Rate (MEHOINUSCAA672N)\n",
    " - *Annual* Home Vacancy Rate (CAHVAC)\n",
    "\n",
    "y attributes:\n",
    "\n",
    " - *Quarterly* California State Housing Price Index (CASTHPI)"
   ]
  },
  {
   "cell_type": "markdown",
   "metadata": {},
   "source": [
    "Connect to APIs and create a dataframe with information from each dataset:"
   ]
  },
  {
   "cell_type": "code",
   "execution_count": 5,
   "metadata": {
    "scrolled": true
   },
   "outputs": [],
   "source": [
    "sp500 = quandl.get('MULTPL/SP500_REAL_PRICE_MONTH').rename(columns={'Value':'SP500'})\n",
    "names_ca = ['LAUST060000000000003A', \"CAHOWN\",\"CAPOP\", \"MEHOINUSCAA672N\", \"CAHVAC\",'GDPA']\n",
    "sp500 = sp500.groupby(sp500.index.year).mean().dropna()\n",
    "ca_data_series = get_info(names_ca) + [sp500]"
   ]
  },
  {
   "cell_type": "code",
   "execution_count": 6,
   "metadata": {},
   "outputs": [],
   "source": [
    "# quarterly housing price index\n",
    "caHPI = fred.get_series('CASTHPI').to_frame()\n",
    "caHPI.index.name = \"DATE\"\n",
    "caHPI = caHPI.rename(columns={0:\"CASTHPI\"})\n",
    "# convert to annual\n",
    "caHPI_annual = caHPI.groupby(caHPI.index.year).mean()"
   ]
  },
  {
   "cell_type": "code",
   "execution_count": 7,
   "metadata": {},
   "outputs": [
    {
     "data": {
      "text/html": [
       "<div>\n",
       "<style scoped>\n",
       "    .dataframe tbody tr th:only-of-type {\n",
       "        vertical-align: middle;\n",
       "    }\n",
       "\n",
       "    .dataframe tbody tr th {\n",
       "        vertical-align: top;\n",
       "    }\n",
       "\n",
       "    .dataframe thead th {\n",
       "        text-align: right;\n",
       "    }\n",
       "</style>\n",
       "<table border=\"1\" class=\"dataframe\">\n",
       "  <thead>\n",
       "    <tr style=\"text-align: right;\">\n",
       "      <th></th>\n",
       "      <th>CASTHPI</th>\n",
       "      <th>LAUST060000000000003A</th>\n",
       "      <th>CAHOWN</th>\n",
       "      <th>CAPOP</th>\n",
       "      <th>MEHOINUSCAA672N</th>\n",
       "      <th>CAHVAC</th>\n",
       "      <th>GDPA</th>\n",
       "      <th>SP500</th>\n",
       "    </tr>\n",
       "  </thead>\n",
       "  <tbody>\n",
       "    <tr>\n",
       "      <th>2014</th>\n",
       "      <td>489.2725</td>\n",
       "      <td>7.5</td>\n",
       "      <td>54.2</td>\n",
       "      <td>38625.139</td>\n",
       "      <td>64221.0</td>\n",
       "      <td>1.1</td>\n",
       "      <td>17527.258</td>\n",
       "      <td>1930.667500</td>\n",
       "    </tr>\n",
       "    <tr>\n",
       "      <th>2015</th>\n",
       "      <td>524.2275</td>\n",
       "      <td>6.2</td>\n",
       "      <td>54.3</td>\n",
       "      <td>38953.142</td>\n",
       "      <td>67448.0</td>\n",
       "      <td>1.2</td>\n",
       "      <td>18224.780</td>\n",
       "      <td>2061.199167</td>\n",
       "    </tr>\n",
       "    <tr>\n",
       "      <th>2016</th>\n",
       "      <td>561.8125</td>\n",
       "      <td>5.5</td>\n",
       "      <td>53.8</td>\n",
       "      <td>39209.127</td>\n",
       "      <td>69729.0</td>\n",
       "      <td>1.0</td>\n",
       "      <td>18715.040</td>\n",
       "      <td>2091.844167</td>\n",
       "    </tr>\n",
       "    <tr>\n",
       "      <th>2017</th>\n",
       "      <td>605.3800</td>\n",
       "      <td>4.8</td>\n",
       "      <td>54.4</td>\n",
       "      <td>39399.349</td>\n",
       "      <td>71745.0</td>\n",
       "      <td>1.0</td>\n",
       "      <td>19519.424</td>\n",
       "      <td>2448.217500</td>\n",
       "    </tr>\n",
       "    <tr>\n",
       "      <th>2018</th>\n",
       "      <td>652.4350</td>\n",
       "      <td>4.2</td>\n",
       "      <td>55.1</td>\n",
       "      <td>39557.045</td>\n",
       "      <td>70489.0</td>\n",
       "      <td>1.2</td>\n",
       "      <td>20580.223</td>\n",
       "      <td>2744.680000</td>\n",
       "    </tr>\n",
       "  </tbody>\n",
       "</table>\n",
       "</div>"
      ],
      "text/plain": [
       "       CASTHPI  LAUST060000000000003A  CAHOWN      CAPOP  MEHOINUSCAA672N  \\\n",
       "2014  489.2725                    7.5    54.2  38625.139          64221.0   \n",
       "2015  524.2275                    6.2    54.3  38953.142          67448.0   \n",
       "2016  561.8125                    5.5    53.8  39209.127          69729.0   \n",
       "2017  605.3800                    4.8    54.4  39399.349          71745.0   \n",
       "2018  652.4350                    4.2    55.1  39557.045          70489.0   \n",
       "\n",
       "      CAHVAC       GDPA        SP500  \n",
       "2014     1.1  17527.258  1930.667500  \n",
       "2015     1.2  18224.780  2061.199167  \n",
       "2016     1.0  18715.040  2091.844167  \n",
       "2017     1.0  19519.424  2448.217500  \n",
       "2018     1.2  20580.223  2744.680000  "
      ]
     },
     "execution_count": 7,
     "metadata": {},
     "output_type": "execute_result"
    }
   ],
   "source": [
    "ca_annual = caHPI_annual.copy()\n",
    "for df in ca_data_series:\n",
    "    ca_annual = ca_annual.merge(df, left_index=True, right_index=True)\n",
    "ca_annual.tail()"
   ]
  },
  {
   "cell_type": "markdown",
   "metadata": {},
   "source": [
    "Analyze the correlation coefficient for each indicator we have specified:"
   ]
  },
  {
   "cell_type": "code",
   "execution_count": 8,
   "metadata": {},
   "outputs": [
    {
     "data": {
      "text/plain": [
       "<matplotlib.axes._subplots.AxesSubplot at 0x123e8fd68>"
      ]
     },
     "execution_count": 8,
     "metadata": {},
     "output_type": "execute_result"
    },
    {
     "data": {
      "image/png": "[encoded data removed]",
      "text/plain": [
       "<Figure size 432x288 with 2 Axes>"
      ]
     },
     "metadata": {
      "needs_background": "light"
     },
     "output_type": "display_data"
    }
   ],
   "source": [
    "corr = ca_annual.corr().round(4)\n",
    "sns.heatmap(data=corr)"
   ]
  },
  {
   "cell_type": "code",
   "execution_count": 9,
   "metadata": {},
   "outputs": [
    {
     "data": {
      "text/html": [
       "<div>\n",
       "<style scoped>\n",
       "    .dataframe tbody tr th:only-of-type {\n",
       "        vertical-align: middle;\n",
       "    }\n",
       "\n",
       "    .dataframe tbody tr th {\n",
       "        vertical-align: top;\n",
       "    }\n",
       "\n",
       "    .dataframe thead th {\n",
       "        text-align: right;\n",
       "    }\n",
       "</style>\n",
       "<table border=\"1\" class=\"dataframe\">\n",
       "  <thead>\n",
       "    <tr style=\"text-align: right;\">\n",
       "      <th></th>\n",
       "      <th>CASTHPI</th>\n",
       "      <th>LAUST060000000000003A</th>\n",
       "      <th>CAHOWN</th>\n",
       "      <th>CAPOP</th>\n",
       "      <th>MEHOINUSCAA672N</th>\n",
       "      <th>CAHVAC</th>\n",
       "      <th>GDPA</th>\n",
       "      <th>SP500</th>\n",
       "    </tr>\n",
       "  </thead>\n",
       "  <tbody>\n",
       "    <tr>\n",
       "      <th>CASTHPI</th>\n",
       "      <td>1.0000</td>\n",
       "      <td>-0.1523</td>\n",
       "      <td>0.3836</td>\n",
       "      <td>0.8695</td>\n",
       "      <td>0.7184</td>\n",
       "      <td>-0.0315</td>\n",
       "      <td>0.8896</td>\n",
       "      <td>0.8241</td>\n",
       "    </tr>\n",
       "    <tr>\n",
       "      <th>LAUST060000000000003A</th>\n",
       "      <td>-0.1523</td>\n",
       "      <td>1.0000</td>\n",
       "      <td>-0.1220</td>\n",
       "      <td>0.1263</td>\n",
       "      <td>-0.5935</td>\n",
       "      <td>0.5236</td>\n",
       "      <td>0.0619</td>\n",
       "      <td>-0.2165</td>\n",
       "    </tr>\n",
       "    <tr>\n",
       "      <th>CAHOWN</th>\n",
       "      <td>0.3836</td>\n",
       "      <td>-0.1220</td>\n",
       "      <td>1.0000</td>\n",
       "      <td>0.2278</td>\n",
       "      <td>0.3126</td>\n",
       "      <td>0.1589</td>\n",
       "      <td>0.1170</td>\n",
       "      <td>0.0675</td>\n",
       "    </tr>\n",
       "    <tr>\n",
       "      <th>CAPOP</th>\n",
       "      <td>0.8695</td>\n",
       "      <td>0.1263</td>\n",
       "      <td>0.2278</td>\n",
       "      <td>1.0000</td>\n",
       "      <td>0.5763</td>\n",
       "      <td>0.0111</td>\n",
       "      <td>0.9808</td>\n",
       "      <td>0.8965</td>\n",
       "    </tr>\n",
       "    <tr>\n",
       "      <th>MEHOINUSCAA672N</th>\n",
       "      <td>0.7184</td>\n",
       "      <td>-0.5935</td>\n",
       "      <td>0.3126</td>\n",
       "      <td>0.5763</td>\n",
       "      <td>1.0000</td>\n",
       "      <td>-0.3606</td>\n",
       "      <td>0.6178</td>\n",
       "      <td>0.7262</td>\n",
       "    </tr>\n",
       "    <tr>\n",
       "      <th>CAHVAC</th>\n",
       "      <td>-0.0315</td>\n",
       "      <td>0.5236</td>\n",
       "      <td>0.1589</td>\n",
       "      <td>0.0111</td>\n",
       "      <td>-0.3606</td>\n",
       "      <td>1.0000</td>\n",
       "      <td>-0.0357</td>\n",
       "      <td>-0.2154</td>\n",
       "    </tr>\n",
       "    <tr>\n",
       "      <th>GDPA</th>\n",
       "      <td>0.8896</td>\n",
       "      <td>0.0619</td>\n",
       "      <td>0.1170</td>\n",
       "      <td>0.9808</td>\n",
       "      <td>0.6178</td>\n",
       "      <td>-0.0357</td>\n",
       "      <td>1.0000</td>\n",
       "      <td>0.9316</td>\n",
       "    </tr>\n",
       "    <tr>\n",
       "      <th>SP500</th>\n",
       "      <td>0.8241</td>\n",
       "      <td>-0.2165</td>\n",
       "      <td>0.0675</td>\n",
       "      <td>0.8965</td>\n",
       "      <td>0.7262</td>\n",
       "      <td>-0.2154</td>\n",
       "      <td>0.9316</td>\n",
       "      <td>1.0000</td>\n",
       "    </tr>\n",
       "  </tbody>\n",
       "</table>\n",
       "</div>"
      ],
      "text/plain": [
       "                       CASTHPI  LAUST060000000000003A  CAHOWN   CAPOP  \\\n",
       "CASTHPI                 1.0000                -0.1523  0.3836  0.8695   \n",
       "LAUST060000000000003A  -0.1523                 1.0000 -0.1220  0.1263   \n",
       "CAHOWN                  0.3836                -0.1220  1.0000  0.2278   \n",
       "CAPOP                   0.8695                 0.1263  0.2278  1.0000   \n",
       "MEHOINUSCAA672N         0.7184                -0.5935  0.3126  0.5763   \n",
       "CAHVAC                 -0.0315                 0.5236  0.1589  0.0111   \n",
       "GDPA                    0.8896                 0.0619  0.1170  0.9808   \n",
       "SP500                   0.8241                -0.2165  0.0675  0.8965   \n",
       "\n",
       "                       MEHOINUSCAA672N  CAHVAC    GDPA   SP500  \n",
       "CASTHPI                         0.7184 -0.0315  0.8896  0.8241  \n",
       "LAUST060000000000003A          -0.5935  0.5236  0.0619 -0.2165  \n",
       "CAHOWN                          0.3126  0.1589  0.1170  0.0675  \n",
       "CAPOP                           0.5763  0.0111  0.9808  0.8965  \n",
       "MEHOINUSCAA672N                 1.0000 -0.3606  0.6178  0.7262  \n",
       "CAHVAC                         -0.3606  1.0000 -0.0357 -0.2154  \n",
       "GDPA                            0.6178 -0.0357  1.0000  0.9316  \n",
       "SP500                           0.7262 -0.2154  0.9316  1.0000  "
      ]
     },
     "execution_count": 9,
     "metadata": {},
     "output_type": "execute_result"
    }
   ],
   "source": [
    "corr"
   ]
  },
  {
   "cell_type": "code",
   "execution_count": 10,
   "metadata": {},
   "outputs": [
    {
     "ename": "SyntaxError",
     "evalue": "invalid syntax (<ipython-input-10-e7298399cefe>, line 1)",
     "output_type": "error",
     "traceback": [
      "\u001b[0;36m  File \u001b[0;32m\"<ipython-input-10-e7298399cefe>\"\u001b[0;36m, line \u001b[0;32m1\u001b[0m\n\u001b[0;31m    Create a model using linear regression to express the Case-Schiller index as dependent on the other datasets we have downloaded:\u001b[0m\n\u001b[0m           ^\u001b[0m\n\u001b[0;31mSyntaxError\u001b[0m\u001b[0;31m:\u001b[0m invalid syntax\n"
     ]
    }
   ],
   "source": [
    "Create a model using linear regression to express the Case-Schiller index as dependent on the other datasets we have downloaded:"
   ]
  },
  {
   "cell_type": "code",
   "execution_count": null,
   "metadata": {},
   "outputs": [],
   "source": [
    "X = ca_annual.drop(columns=['CASTHPI'], axis=1)\n",
    "Y = ca_annual['CASTHPI']\n",
    "X_train, X_test, Y_train, Y_test = train_test_split(X, Y, test_size = 0.2, random_state=5)\n",
    "lin_model = LinearRegression()\n",
    "lin_model.fit(X_train, Y_train)"
   ]
  },
  {
   "cell_type": "code",
   "execution_count": null,
   "metadata": {},
   "outputs": [],
   "source": [
    "# model evaluation for training set\n",
    "y_train_predict = lin_model.predict(X_train)\n",
    "rmse = (np.sqrt(mean_squared_error(Y_train, y_train_predict)))\n",
    "r2 = r2_score(Y_train, y_train_predict)\n",
    "\n",
    "print(\"The model performance for training set\")\n",
    "print(\"--------------------------------------\")\n",
    "print('Root Mean Squared Error is {}'.format(rmse))\n",
    "print('R-Squared score is {}'.format(r2))\n",
    "print(\"\\n\")\n",
    "\n",
    "# model evaluation for testing set\n",
    "y_test_predict = lin_model.predict(X_test)\n",
    "rmse = (np.sqrt(mean_squared_error(Y_test, y_test_predict)))\n",
    "r2 = r2_score(Y_test, y_test_predict)\n",
    "\n",
    "print(\"The model performance for testing set\")\n",
    "print(\"--------------------------------------\")\n",
    "print('Root Mean Squared Error is {}'.format(rmse))\n",
    "print('R-Squared score is {}'.format(r2))"
   ]
  }
 ],
 "metadata": {
  "kernelspec": {
   "display_name": "Python 3",
   "language": "python",
   "name": "python3"
  },
  "language_info": {
   "codemirror_mode": {
    "name": "ipython",
    "version": 3
   },
   "file_extension": ".py",
   "mimetype": "text/x-python",
   "name": "python",
   "nbconvert_exporter": "python",
   "pygments_lexer": "ipython3",
   "version": "3.7.3"
  }
 },
 "nbformat": 4,
 "nbformat_minor": 2
}
