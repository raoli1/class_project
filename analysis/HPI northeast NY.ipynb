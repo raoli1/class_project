{
 "cells": [
  {
   "cell_type": "code",
   "execution_count": 1,
   "metadata": {},
   "outputs": [],
   "source": [
    "from sklearn.model_selection import train_test_split\n",
    "from sklearn.linear_model import LinearRegression\n",
    "from sklearn.metrics import mean_squared_error, r2_score"
   ]
  },
  {
   "cell_type": "code",
   "execution_count": 2,
   "metadata": {},
   "outputs": [],
   "source": [
    "import numpy as np, pandas as pd, matplotlib.pyplot as plt, seaborn as sns\n",
    "from datetime import datetime, timedelta\n",
    "from fredapi import Fred\n",
    "import quandl"
   ]
  },
  {
   "cell_type": "code",
   "execution_count": 3,
   "metadata": {},
   "outputs": [],
   "source": [
    "def get_info(names):\n",
    "    data = []\n",
    "    for i in range(len(names)):\n",
    "        data.append(fred.get_series(names[i]).to_frame().rename(columns={0:names[i]}))\n",
    "        data[i] = data[i].groupby(data[i].index.year).mean().dropna()\n",
    "    return data"
   ]
  },
  {
   "cell_type": "code",
   "execution_count": 4,
   "metadata": {},
   "outputs": [],
   "source": [
    "# https://github.com/mortada/fredapi\n",
    "fred = Fred(api_key=\"a02df0a22c57860f5f7cf25edc70ffb3\")\n",
    "quandl.ApiConfig.api_key = \"QZLZXdHDDPZna9Yw48NP\""
   ]
  },
  {
   "cell_type": "markdown",
   "metadata": {},
   "source": [
    "# Northeast - New York"
   ]
  },
  {
   "cell_type": "markdown",
   "metadata": {},
   "source": [
    "Define the variables to be used in analysis:\n",
    "\n",
    "X attributes: \n",
    "* *Monthly* Stocks\n",
    "    * S&P 500 (MULTPL/SP500_REAL_PRICE_MONTH)\n",
    "* *Quarterly* Gross Domestic Product (GDP)\n",
    "* *Annual* Unemployment Rate (LAUST360000000000003A)\n",
    "* *Annual* House Ownership Ratio (NYHOWN)\n",
    "* *Annual* Resident Population (NYPOP)\n",
    "* *Annual* Median Income Rate (MEHOINUSNYA672N)\n",
    "* *Annual* Home Vacancy Rate (NYHVAC)\n",
    "\n",
    "y attributes:\n",
    "* *Quarterly* New York State Housing Price Index (NYSTHPI)"
   ]
  },
  {
   "cell_type": "markdown",
   "metadata": {},
   "source": [
    "Connect to APIs and create a dataframe with information from each dataset:"
   ]
  },
  {
   "cell_type": "code",
   "execution_count": 5,
   "metadata": {
    "scrolled": true
   },
   "outputs": [],
   "source": [
    "sp500 = quandl.get('MULTPL/SP500_REAL_PRICE_MONTH').rename(columns={'Value':'SP500'})\n",
    "sp500 = sp500.groupby(sp500.index.year).mean().dropna()\n",
    "names_ny = ['LAUST360000000000003A', \"NYHOWN\",\"NYPOP\", \"MEHOINUSNYA672N\", \"NYHVAC\", 'GDP']\n",
    "ny_data_series = get_info(names_ny) + [sp500]"
   ]
  },
  {
   "cell_type": "code",
   "execution_count": 6,
   "metadata": {},
   "outputs": [],
   "source": [
    "# quarterly housing price index\n",
    "nyHPI = fred.get_series('NYSTHPI').to_frame()\n",
    "nyHPI.index.name = \"DATE\"\n",
    "nyHPI = nyHPI.rename(columns={0:\"NYSTHPI\"})\n",
    "# convert to annual\n",
    "nyHPI_annual = nyHPI.groupby(nyHPI.index.year).mean()"
   ]
  },
  {
   "cell_type": "code",
   "execution_count": 7,
   "metadata": {},
   "outputs": [
    {
     "data": {
      "text/html": [
       "<div>\n",
       "<style scoped>\n",
       "    .dataframe tbody tr th:only-of-type {\n",
       "        vertical-align: middle;\n",
       "    }\n",
       "\n",
       "    .dataframe tbody tr th {\n",
       "        vertical-align: top;\n",
       "    }\n",
       "\n",
       "    .dataframe thead th {\n",
       "        text-align: right;\n",
       "    }\n",
       "</style>\n",
       "<table border=\"1\" class=\"dataframe\">\n",
       "  <thead>\n",
       "    <tr style=\"text-align: right;\">\n",
       "      <th></th>\n",
       "      <th>NYSTHPI</th>\n",
       "      <th>LAUST360000000000003A</th>\n",
       "      <th>NYHOWN</th>\n",
       "      <th>NYPOP</th>\n",
       "      <th>MEHOINUSNYA672N</th>\n",
       "      <th>NYHVAC</th>\n",
       "      <th>GDP</th>\n",
       "      <th>SP500</th>\n",
       "    </tr>\n",
       "  </thead>\n",
       "  <tbody>\n",
       "    <tr>\n",
       "      <th>2014</th>\n",
       "      <td>570.9975</td>\n",
       "      <td>6.3</td>\n",
       "      <td>52.9</td>\n",
       "      <td>19656.330</td>\n",
       "      <td>57662.0</td>\n",
       "      <td>1.7</td>\n",
       "      <td>17527.25825</td>\n",
       "      <td>1930.667500</td>\n",
       "    </tr>\n",
       "    <tr>\n",
       "      <th>2015</th>\n",
       "      <td>591.8425</td>\n",
       "      <td>5.3</td>\n",
       "      <td>51.5</td>\n",
       "      <td>19661.411</td>\n",
       "      <td>61480.0</td>\n",
       "      <td>2.0</td>\n",
       "      <td>18224.78025</td>\n",
       "      <td>2061.199167</td>\n",
       "    </tr>\n",
       "    <tr>\n",
       "      <th>2016</th>\n",
       "      <td>613.9100</td>\n",
       "      <td>4.9</td>\n",
       "      <td>51.5</td>\n",
       "      <td>19641.589</td>\n",
       "      <td>64288.0</td>\n",
       "      <td>2.0</td>\n",
       "      <td>18715.04050</td>\n",
       "      <td>2091.844167</td>\n",
       "    </tr>\n",
       "    <tr>\n",
       "      <th>2017</th>\n",
       "      <td>644.7200</td>\n",
       "      <td>4.7</td>\n",
       "      <td>51.1</td>\n",
       "      <td>19590.719</td>\n",
       "      <td>63043.0</td>\n",
       "      <td>2.1</td>\n",
       "      <td>19519.42350</td>\n",
       "      <td>2448.217500</td>\n",
       "    </tr>\n",
       "    <tr>\n",
       "      <th>2018</th>\n",
       "      <td>682.2450</td>\n",
       "      <td>4.1</td>\n",
       "      <td>51.0</td>\n",
       "      <td>19542.209</td>\n",
       "      <td>67274.0</td>\n",
       "      <td>1.7</td>\n",
       "      <td>20580.22300</td>\n",
       "      <td>2744.680000</td>\n",
       "    </tr>\n",
       "  </tbody>\n",
       "</table>\n",
       "</div>"
      ],
      "text/plain": [
       "       NYSTHPI  LAUST360000000000003A  NYHOWN      NYPOP  MEHOINUSNYA672N  \\\n",
       "2014  570.9975                    6.3    52.9  19656.330          57662.0   \n",
       "2015  591.8425                    5.3    51.5  19661.411          61480.0   \n",
       "2016  613.9100                    4.9    51.5  19641.589          64288.0   \n",
       "2017  644.7200                    4.7    51.1  19590.719          63043.0   \n",
       "2018  682.2450                    4.1    51.0  19542.209          67274.0   \n",
       "\n",
       "      NYHVAC          GDP        SP500  \n",
       "2014     1.7  17527.25825  1930.667500  \n",
       "2015     2.0  18224.78025  2061.199167  \n",
       "2016     2.0  18715.04050  2091.844167  \n",
       "2017     2.1  19519.42350  2448.217500  \n",
       "2018     1.7  20580.22300  2744.680000  "
      ]
     },
     "execution_count": 7,
     "metadata": {},
     "output_type": "execute_result"
    }
   ],
   "source": [
    "ny_annual = nyHPI_annual.copy()\n",
    "for df in ny_data_series:\n",
    "    ny_annual = ny_annual.merge(df, left_index=True, right_index=True)\n",
    "ny_annual.tail()"
   ]
  },
  {
   "cell_type": "markdown",
   "metadata": {},
   "source": [
    "Analyze the correlation coefficient for each indicator we have specified:"
   ]
  },
  {
   "cell_type": "code",
   "execution_count": 8,
   "metadata": {},
   "outputs": [
    {
     "data": {
      "text/plain": [
       "<matplotlib.axes._subplots.AxesSubplot at 0x129e436a0>"
      ]
     },
     "execution_count": 8,
     "metadata": {},
     "output_type": "execute_result"
    },
    {
     "data": {
      "image/png": "[encoded data removed]",
      "text/plain": [
       "<Figure size 432x288 with 2 Axes>"
      ]
     },
     "metadata": {
      "needs_background": "light"
     },
     "output_type": "display_data"
    }
   ],
   "source": [
    "corr = ny_annual.corr().round(4)\n",
    "sns.heatmap(data=corr)"
   ]
  },
  {
   "cell_type": "code",
   "execution_count": 9,
   "metadata": {},
   "outputs": [
    {
     "data": {
      "text/html": [
       "<div>\n",
       "<style scoped>\n",
       "    .dataframe tbody tr th:only-of-type {\n",
       "        vertical-align: middle;\n",
       "    }\n",
       "\n",
       "    .dataframe tbody tr th {\n",
       "        vertical-align: top;\n",
       "    }\n",
       "\n",
       "    .dataframe thead th {\n",
       "        text-align: right;\n",
       "    }\n",
       "</style>\n",
       "<table border=\"1\" class=\"dataframe\">\n",
       "  <thead>\n",
       "    <tr style=\"text-align: right;\">\n",
       "      <th></th>\n",
       "      <th>NYSTHPI</th>\n",
       "      <th>LAUST360000000000003A</th>\n",
       "      <th>NYHOWN</th>\n",
       "      <th>NYPOP</th>\n",
       "      <th>MEHOINUSNYA672N</th>\n",
       "      <th>NYHVAC</th>\n",
       "      <th>GDP</th>\n",
       "      <th>SP500</th>\n",
       "    </tr>\n",
       "  </thead>\n",
       "  <tbody>\n",
       "    <tr>\n",
       "      <th>NYSTHPI</th>\n",
       "      <td>1.0000</td>\n",
       "      <td>-0.0679</td>\n",
       "      <td>0.3505</td>\n",
       "      <td>0.9229</td>\n",
       "      <td>0.4768</td>\n",
       "      <td>0.5110</td>\n",
       "      <td>0.9399</td>\n",
       "      <td>0.8121</td>\n",
       "    </tr>\n",
       "    <tr>\n",
       "      <th>LAUST360000000000003A</th>\n",
       "      <td>-0.0679</td>\n",
       "      <td>1.0000</td>\n",
       "      <td>0.1524</td>\n",
       "      <td>0.0372</td>\n",
       "      <td>-0.6925</td>\n",
       "      <td>0.2963</td>\n",
       "      <td>-0.0336</td>\n",
       "      <td>-0.2694</td>\n",
       "    </tr>\n",
       "    <tr>\n",
       "      <th>NYHOWN</th>\n",
       "      <td>0.3505</td>\n",
       "      <td>0.1524</td>\n",
       "      <td>1.0000</td>\n",
       "      <td>0.2901</td>\n",
       "      <td>-0.1009</td>\n",
       "      <td>0.2004</td>\n",
       "      <td>0.1265</td>\n",
       "      <td>-0.0416</td>\n",
       "    </tr>\n",
       "    <tr>\n",
       "      <th>NYPOP</th>\n",
       "      <td>0.9229</td>\n",
       "      <td>0.0372</td>\n",
       "      <td>0.2901</td>\n",
       "      <td>1.0000</td>\n",
       "      <td>0.3714</td>\n",
       "      <td>0.4056</td>\n",
       "      <td>0.9473</td>\n",
       "      <td>0.8360</td>\n",
       "    </tr>\n",
       "    <tr>\n",
       "      <th>MEHOINUSNYA672N</th>\n",
       "      <td>0.4768</td>\n",
       "      <td>-0.6925</td>\n",
       "      <td>-0.1009</td>\n",
       "      <td>0.3714</td>\n",
       "      <td>1.0000</td>\n",
       "      <td>0.0780</td>\n",
       "      <td>0.4602</td>\n",
       "      <td>0.5971</td>\n",
       "    </tr>\n",
       "    <tr>\n",
       "      <th>NYHVAC</th>\n",
       "      <td>0.5110</td>\n",
       "      <td>0.2963</td>\n",
       "      <td>0.2004</td>\n",
       "      <td>0.4056</td>\n",
       "      <td>0.0780</td>\n",
       "      <td>1.0000</td>\n",
       "      <td>0.4934</td>\n",
       "      <td>0.3226</td>\n",
       "    </tr>\n",
       "    <tr>\n",
       "      <th>GDP</th>\n",
       "      <td>0.9399</td>\n",
       "      <td>-0.0336</td>\n",
       "      <td>0.1265</td>\n",
       "      <td>0.9473</td>\n",
       "      <td>0.4602</td>\n",
       "      <td>0.4934</td>\n",
       "      <td>1.0000</td>\n",
       "      <td>0.9316</td>\n",
       "    </tr>\n",
       "    <tr>\n",
       "      <th>SP500</th>\n",
       "      <td>0.8121</td>\n",
       "      <td>-0.2694</td>\n",
       "      <td>-0.0416</td>\n",
       "      <td>0.8360</td>\n",
       "      <td>0.5971</td>\n",
       "      <td>0.3226</td>\n",
       "      <td>0.9316</td>\n",
       "      <td>1.0000</td>\n",
       "    </tr>\n",
       "  </tbody>\n",
       "</table>\n",
       "</div>"
      ],
      "text/plain": [
       "                       NYSTHPI  LAUST360000000000003A  NYHOWN   NYPOP  \\\n",
       "NYSTHPI                 1.0000                -0.0679  0.3505  0.9229   \n",
       "LAUST360000000000003A  -0.0679                 1.0000  0.1524  0.0372   \n",
       "NYHOWN                  0.3505                 0.1524  1.0000  0.2901   \n",
       "NYPOP                   0.9229                 0.0372  0.2901  1.0000   \n",
       "MEHOINUSNYA672N         0.4768                -0.6925 -0.1009  0.3714   \n",
       "NYHVAC                  0.5110                 0.2963  0.2004  0.4056   \n",
       "GDP                     0.9399                -0.0336  0.1265  0.9473   \n",
       "SP500                   0.8121                -0.2694 -0.0416  0.8360   \n",
       "\n",
       "                       MEHOINUSNYA672N  NYHVAC     GDP   SP500  \n",
       "NYSTHPI                         0.4768  0.5110  0.9399  0.8121  \n",
       "LAUST360000000000003A          -0.6925  0.2963 -0.0336 -0.2694  \n",
       "NYHOWN                         -0.1009  0.2004  0.1265 -0.0416  \n",
       "NYPOP                           0.3714  0.4056  0.9473  0.8360  \n",
       "MEHOINUSNYA672N                 1.0000  0.0780  0.4602  0.5971  \n",
       "NYHVAC                          0.0780  1.0000  0.4934  0.3226  \n",
       "GDP                             0.4602  0.4934  1.0000  0.9316  \n",
       "SP500                           0.5971  0.3226  0.9316  1.0000  "
      ]
     },
     "execution_count": 9,
     "metadata": {},
     "output_type": "execute_result"
    }
   ],
   "source": [
    "corr"
   ]
  },
  {
   "cell_type": "markdown",
   "metadata": {},
   "source": [
    "Create a model using linear regression to express the Case-Schiller index as dependent on the other datasets we have downloaded:"
   ]
  },
  {
   "cell_type": "code",
   "execution_count": 10,
   "metadata": {},
   "outputs": [
    {
     "data": {
      "text/plain": [
       "LinearRegression(copy_X=True, fit_intercept=True, n_jobs=None, normalize=False)"
      ]
     },
     "execution_count": 10,
     "metadata": {},
     "output_type": "execute_result"
    }
   ],
   "source": [
    "X = ny_annual.drop(columns=['NYSTHPI'], axis=1)\n",
    "Y = ny_annual['NYSTHPI']\n",
    "X_train, X_test, Y_train, Y_test = train_test_split(X, Y, test_size = 0.2, random_state=5)\n",
    "lin_model = LinearRegression()\n",
    "lin_model.fit(X_train, Y_train)"
   ]
  },
  {
   "cell_type": "code",
   "execution_count": 11,
   "metadata": {},
   "outputs": [
    {
     "name": "stdout",
     "output_type": "stream",
     "text": [
      "The model performance for training set\n",
      "--------------------------------------\n",
      "Root Mean Squared Error is 20.550389410992903\n",
      "R-Squared score is 0.9820594540751048\n",
      "\n",
      "\n",
      "The model performance for testing set\n",
      "--------------------------------------\n",
      "Root Mean Squared Error is 31.309697006192742\n",
      "R-Squared score is 0.952166261889279\n"
     ]
    }
   ],
   "source": [
    "# model evaluation for training set\n",
    "y_train_predict = lin_model.predict(X_train)\n",
    "rmse = (np.sqrt(mean_squared_error(Y_train, y_train_predict)))\n",
    "r2 = r2_score(Y_train, y_train_predict)\n",
    "\n",
    "print(\"The model performance for training set\")\n",
    "print(\"--------------------------------------\")\n",
    "print('Root Mean Squared Error is {}'.format(rmse))\n",
    "print('R-Squared score is {}'.format(r2))\n",
    "print(\"\\n\")\n",
    "\n",
    "# model evaluation for testing set\n",
    "y_test_predict = lin_model.predict(X_test)\n",
    "rmse = (np.sqrt(mean_squared_error(Y_test, y_test_predict)))\n",
    "r2 = r2_score(Y_test, y_test_predict)\n",
    "\n",
    "print(\"The model performance for testing set\")\n",
    "print(\"--------------------------------------\")\n",
    "print('Root Mean Squared Error is {}'.format(rmse))\n",
    "print('R-Squared score is {}'.format(r2))"
   ]
  }
 ],
 "metadata": {
  "kernelspec": {
   "display_name": "Python 3",
   "language": "python",
   "name": "python3"
  },
  "language_info": {
   "codemirror_mode": {
    "name": "ipython",
    "version": 3
   },
   "file_extension": ".py",
   "mimetype": "text/x-python",
   "name": "python",
   "nbconvert_exporter": "python",
   "pygments_lexer": "ipython3",
   "version": "3.7.3"
  }
 },
 "nbformat": 4,
 "nbformat_minor": 2
}
