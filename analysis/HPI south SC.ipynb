{
 "cells": [
  {
   "cell_type": "code",
   "execution_count": 1,
   "metadata": {},
   "outputs": [],
   "source": [
    "from sklearn.model_selection import train_test_split\n",
    "from sklearn.linear_model import LinearRegression\n",
    "from sklearn.metrics import mean_squared_error, r2_score"
   ]
  },
  {
   "cell_type": "code",
   "execution_count": 2,
   "metadata": {},
   "outputs": [],
   "source": [
    "import numpy as np, pandas as pd, matplotlib.pyplot as plt, seaborn as sns\n",
    "from datetime import datetime, timedelta\n",
    "from fredapi import Fred\n",
    "import quandl"
   ]
  },
  {
   "cell_type": "code",
   "execution_count": 3,
   "metadata": {},
   "outputs": [],
   "source": [
    "def get_info(names):\n",
    "    data = []\n",
    "    for i in range(len(names)):\n",
    "        data.append(fred.get_series(names[i]).to_frame().rename(columns={0:names[i]}))\n",
    "        data[i] = data[i].groupby(data[i].index.year).mean().dropna()\n",
    "    return data"
   ]
  },
  {
   "cell_type": "code",
   "execution_count": 4,
   "metadata": {},
   "outputs": [],
   "source": [
    "# https://github.com/mortada/fredapi\n",
    "fred = Fred(api_key=\"a02df0a22c57860f5f7cf25edc70ffb3\")\n",
    "quandl.ApiConfig.api_key = \"QZLZXdHDDPZna9Yw48NP\""
   ]
  },
  {
   "cell_type": "markdown",
   "metadata": {},
   "source": [
    "# South - South Carolina"
   ]
  },
  {
   "cell_type": "markdown",
   "metadata": {},
   "source": [
    "Define the variables to be used in analysis:\n",
    "\n",
    "X attributes:\n",
    " - *Monthly* Stocks\n",
    "    - S&P 500 (MULTPL/SP500_REAL_PRICE_MONTH)\n",
    " - *Quarterly* Gross Domestic Product (GDP)\n",
    " - *Annual* Unemployment Rate (LAUST450000000000003A)\n",
    " - *Annual* House Ownership Ratio (SCHOWN)\n",
    " - *Annual* Resident Population (SCPOP)\n",
    " - *Annual* Median Income Rate (MEHOINUSSCA672N)\n",
    " - *Annual* Home Vacancy Rate (SCHVAC)\n",
    "\n",
    "y attributes:\n",
    "\n",
    " - *Quarterly* Ohio State Housing Price Index (SCSTHPI)"
   ]
  },
  {
   "cell_type": "markdown",
   "metadata": {},
   "source": [
    "Connect to APIs and create a dataframe with information from each dataset:"
   ]
  },
  {
   "cell_type": "code",
   "execution_count": 5,
   "metadata": {
    "scrolled": true
   },
   "outputs": [],
   "source": [
    "sp500 = quandl.get('MULTPL/SP500_REAL_PRICE_MONTH').rename(columns={'Value':'SP500'})\n",
    "names_sc = ['LAUST450000000000003A', \"SCHOWN\",\"SCPOP\", \"MEHOINUSSCA672N\", \"SCHVAC\", \"GDP\"]\n",
    "sp500 = sp500.groupby(sp500.index.year).mean().dropna()\n",
    "sc_data_series = get_info(names_sc)  + [sp500]"
   ]
  },
  {
   "cell_type": "code",
   "execution_count": 6,
   "metadata": {},
   "outputs": [],
   "source": [
    "# quarterly housing price index\n",
    "scHPI = fred.get_series('SCSTHPI').to_frame()\n",
    "scHPI.index.name = \"DATE\"\n",
    "scHPI = scHPI.rename(columns={0:\"SCSTHPI\"})\n",
    "# convert to annual\n",
    "scHPI_annual = scHPI.groupby(scHPI.index.year).mean()"
   ]
  },
  {
   "cell_type": "code",
   "execution_count": 7,
   "metadata": {},
   "outputs": [
    {
     "data": {
      "text/html": [
       "<div>\n",
       "<style scoped>\n",
       "    .dataframe tbody tr th:only-of-type {\n",
       "        vertical-align: middle;\n",
       "    }\n",
       "\n",
       "    .dataframe tbody tr th {\n",
       "        vertical-align: top;\n",
       "    }\n",
       "\n",
       "    .dataframe thead th {\n",
       "        text-align: right;\n",
       "    }\n",
       "</style>\n",
       "<table border=\"1\" class=\"dataframe\">\n",
       "  <thead>\n",
       "    <tr style=\"text-align: right;\">\n",
       "      <th></th>\n",
       "      <th>SCSTHPI</th>\n",
       "      <th>LAUST450000000000003A</th>\n",
       "      <th>SCHOWN</th>\n",
       "      <th>SCPOP</th>\n",
       "      <th>MEHOINUSSCA672N</th>\n",
       "      <th>SCHVAC</th>\n",
       "      <th>GDP</th>\n",
       "      <th>SP500</th>\n",
       "    </tr>\n",
       "  </thead>\n",
       "  <tbody>\n",
       "    <tr>\n",
       "      <th>2014</th>\n",
       "      <td>309.3825</td>\n",
       "      <td>6.5</td>\n",
       "      <td>72.9</td>\n",
       "      <td>4823.793</td>\n",
       "      <td>47702.0</td>\n",
       "      <td>2.7</td>\n",
       "      <td>17527.25825</td>\n",
       "      <td>1930.667500</td>\n",
       "    </tr>\n",
       "    <tr>\n",
       "      <th>2015</th>\n",
       "      <td>325.5225</td>\n",
       "      <td>6.0</td>\n",
       "      <td>67.1</td>\n",
       "      <td>4892.253</td>\n",
       "      <td>49137.0</td>\n",
       "      <td>2.1</td>\n",
       "      <td>18224.78025</td>\n",
       "      <td>2061.199167</td>\n",
       "    </tr>\n",
       "    <tr>\n",
       "      <th>2016</th>\n",
       "      <td>343.3150</td>\n",
       "      <td>5.0</td>\n",
       "      <td>68.9</td>\n",
       "      <td>4958.235</td>\n",
       "      <td>56858.0</td>\n",
       "      <td>1.9</td>\n",
       "      <td>18715.04050</td>\n",
       "      <td>2091.844167</td>\n",
       "    </tr>\n",
       "    <tr>\n",
       "      <th>2017</th>\n",
       "      <td>363.0900</td>\n",
       "      <td>4.3</td>\n",
       "      <td>72.8</td>\n",
       "      <td>5021.219</td>\n",
       "      <td>55866.0</td>\n",
       "      <td>1.9</td>\n",
       "      <td>19519.42350</td>\n",
       "      <td>2448.217500</td>\n",
       "    </tr>\n",
       "    <tr>\n",
       "      <th>2018</th>\n",
       "      <td>388.1250</td>\n",
       "      <td>3.4</td>\n",
       "      <td>72.0</td>\n",
       "      <td>5084.127</td>\n",
       "      <td>57444.0</td>\n",
       "      <td>1.9</td>\n",
       "      <td>20580.22300</td>\n",
       "      <td>2744.680000</td>\n",
       "    </tr>\n",
       "  </tbody>\n",
       "</table>\n",
       "</div>"
      ],
      "text/plain": [
       "       SCSTHPI  LAUST450000000000003A  SCHOWN     SCPOP  MEHOINUSSCA672N  \\\n",
       "2014  309.3825                    6.5    72.9  4823.793          47702.0   \n",
       "2015  325.5225                    6.0    67.1  4892.253          49137.0   \n",
       "2016  343.3150                    5.0    68.9  4958.235          56858.0   \n",
       "2017  363.0900                    4.3    72.8  5021.219          55866.0   \n",
       "2018  388.1250                    3.4    72.0  5084.127          57444.0   \n",
       "\n",
       "      SCHVAC          GDP        SP500  \n",
       "2014     2.7  17527.25825  1930.667500  \n",
       "2015     2.1  18224.78025  2061.199167  \n",
       "2016     1.9  18715.04050  2091.844167  \n",
       "2017     1.9  19519.42350  2448.217500  \n",
       "2018     1.9  20580.22300  2744.680000  "
      ]
     },
     "execution_count": 7,
     "metadata": {},
     "output_type": "execute_result"
    }
   ],
   "source": [
    "sc_annual = scHPI_annual.copy()\n",
    "for df in sc_data_series:\n",
    "    sc_annual = sc_annual.merge(df, left_index=True, right_index=True)\n",
    "sc_annual.tail()"
   ]
  },
  {
   "cell_type": "markdown",
   "metadata": {},
   "source": [
    "Analyze the correlation coefficient for each indicator we have specified:"
   ]
  },
  {
   "cell_type": "code",
   "execution_count": 8,
   "metadata": {},
   "outputs": [
    {
     "data": {
      "text/plain": [
       "<matplotlib.axes._subplots.AxesSubplot at 0x11eac4588>"
      ]
     },
     "execution_count": 8,
     "metadata": {},
     "output_type": "execute_result"
    },
    {
     "data": {
      "image/png": "[encoded data removed]",
      "text/plain": [
       "<Figure size 432x288 with 2 Axes>"
      ]
     },
     "metadata": {
      "needs_background": "light"
     },
     "output_type": "display_data"
    }
   ],
   "source": [
    "corr = sc_annual.corr().round(4)\n",
    "sns.heatmap(data=corr)"
   ]
  },
  {
   "cell_type": "code",
   "execution_count": 9,
   "metadata": {},
   "outputs": [
    {
     "data": {
      "text/html": [
       "<div>\n",
       "<style scoped>\n",
       "    .dataframe tbody tr th:only-of-type {\n",
       "        vertical-align: middle;\n",
       "    }\n",
       "\n",
       "    .dataframe tbody tr th {\n",
       "        vertical-align: top;\n",
       "    }\n",
       "\n",
       "    .dataframe thead th {\n",
       "        text-align: right;\n",
       "    }\n",
       "</style>\n",
       "<table border=\"1\" class=\"dataframe\">\n",
       "  <thead>\n",
       "    <tr style=\"text-align: right;\">\n",
       "      <th></th>\n",
       "      <th>SCSTHPI</th>\n",
       "      <th>LAUST450000000000003A</th>\n",
       "      <th>SCHOWN</th>\n",
       "      <th>SCPOP</th>\n",
       "      <th>MEHOINUSSCA672N</th>\n",
       "      <th>SCHVAC</th>\n",
       "      <th>GDP</th>\n",
       "      <th>SP500</th>\n",
       "    </tr>\n",
       "  </thead>\n",
       "  <tbody>\n",
       "    <tr>\n",
       "      <th>SCSTHPI</th>\n",
       "      <td>1.0000</td>\n",
       "      <td>0.2672</td>\n",
       "      <td>0.0640</td>\n",
       "      <td>0.9651</td>\n",
       "      <td>0.1580</td>\n",
       "      <td>0.6438</td>\n",
       "      <td>0.9666</td>\n",
       "      <td>0.8790</td>\n",
       "    </tr>\n",
       "    <tr>\n",
       "      <th>LAUST450000000000003A</th>\n",
       "      <td>0.2672</td>\n",
       "      <td>1.0000</td>\n",
       "      <td>0.0004</td>\n",
       "      <td>0.2936</td>\n",
       "      <td>-0.6345</td>\n",
       "      <td>0.6129</td>\n",
       "      <td>0.2355</td>\n",
       "      <td>-0.0920</td>\n",
       "    </tr>\n",
       "    <tr>\n",
       "      <th>SCHOWN</th>\n",
       "      <td>0.0640</td>\n",
       "      <td>0.0004</td>\n",
       "      <td>1.0000</td>\n",
       "      <td>-0.0665</td>\n",
       "      <td>0.2389</td>\n",
       "      <td>0.1073</td>\n",
       "      <td>-0.0766</td>\n",
       "      <td>-0.0276</td>\n",
       "    </tr>\n",
       "    <tr>\n",
       "      <th>SCPOP</th>\n",
       "      <td>0.9651</td>\n",
       "      <td>0.2936</td>\n",
       "      <td>-0.0665</td>\n",
       "      <td>1.0000</td>\n",
       "      <td>0.0893</td>\n",
       "      <td>0.6105</td>\n",
       "      <td>0.9972</td>\n",
       "      <td>0.9105</td>\n",
       "    </tr>\n",
       "    <tr>\n",
       "      <th>MEHOINUSSCA672N</th>\n",
       "      <td>0.1580</td>\n",
       "      <td>-0.6345</td>\n",
       "      <td>0.2389</td>\n",
       "      <td>0.0893</td>\n",
       "      <td>1.0000</td>\n",
       "      <td>-0.2826</td>\n",
       "      <td>0.1275</td>\n",
       "      <td>0.3533</td>\n",
       "    </tr>\n",
       "    <tr>\n",
       "      <th>SCHVAC</th>\n",
       "      <td>0.6438</td>\n",
       "      <td>0.6129</td>\n",
       "      <td>0.1073</td>\n",
       "      <td>0.6105</td>\n",
       "      <td>-0.2826</td>\n",
       "      <td>1.0000</td>\n",
       "      <td>0.5840</td>\n",
       "      <td>0.3471</td>\n",
       "    </tr>\n",
       "    <tr>\n",
       "      <th>GDP</th>\n",
       "      <td>0.9666</td>\n",
       "      <td>0.2355</td>\n",
       "      <td>-0.0766</td>\n",
       "      <td>0.9972</td>\n",
       "      <td>0.1275</td>\n",
       "      <td>0.5840</td>\n",
       "      <td>1.0000</td>\n",
       "      <td>0.9316</td>\n",
       "    </tr>\n",
       "    <tr>\n",
       "      <th>SP500</th>\n",
       "      <td>0.8790</td>\n",
       "      <td>-0.0920</td>\n",
       "      <td>-0.0276</td>\n",
       "      <td>0.9105</td>\n",
       "      <td>0.3533</td>\n",
       "      <td>0.3471</td>\n",
       "      <td>0.9316</td>\n",
       "      <td>1.0000</td>\n",
       "    </tr>\n",
       "  </tbody>\n",
       "</table>\n",
       "</div>"
      ],
      "text/plain": [
       "                       SCSTHPI  LAUST450000000000003A  SCHOWN   SCPOP  \\\n",
       "SCSTHPI                 1.0000                 0.2672  0.0640  0.9651   \n",
       "LAUST450000000000003A   0.2672                 1.0000  0.0004  0.2936   \n",
       "SCHOWN                  0.0640                 0.0004  1.0000 -0.0665   \n",
       "SCPOP                   0.9651                 0.2936 -0.0665  1.0000   \n",
       "MEHOINUSSCA672N         0.1580                -0.6345  0.2389  0.0893   \n",
       "SCHVAC                  0.6438                 0.6129  0.1073  0.6105   \n",
       "GDP                     0.9666                 0.2355 -0.0766  0.9972   \n",
       "SP500                   0.8790                -0.0920 -0.0276  0.9105   \n",
       "\n",
       "                       MEHOINUSSCA672N  SCHVAC     GDP   SP500  \n",
       "SCSTHPI                         0.1580  0.6438  0.9666  0.8790  \n",
       "LAUST450000000000003A          -0.6345  0.6129  0.2355 -0.0920  \n",
       "SCHOWN                          0.2389  0.1073 -0.0766 -0.0276  \n",
       "SCPOP                           0.0893  0.6105  0.9972  0.9105  \n",
       "MEHOINUSSCA672N                 1.0000 -0.2826  0.1275  0.3533  \n",
       "SCHVAC                         -0.2826  1.0000  0.5840  0.3471  \n",
       "GDP                             0.1275  0.5840  1.0000  0.9316  \n",
       "SP500                           0.3533  0.3471  0.9316  1.0000  "
      ]
     },
     "execution_count": 9,
     "metadata": {},
     "output_type": "execute_result"
    }
   ],
   "source": [
    "corr"
   ]
  },
  {
   "cell_type": "markdown",
   "metadata": {},
   "source": [
    "Create a model using linear regression to express the Housing Price Index as dependent on the other datasets we have downloaded:"
   ]
  },
  {
   "cell_type": "code",
   "execution_count": 10,
   "metadata": {},
   "outputs": [
    {
     "data": {
      "text/plain": [
       "LinearRegression(copy_X=True, fit_intercept=True, n_jobs=None, normalize=False)"
      ]
     },
     "execution_count": 10,
     "metadata": {},
     "output_type": "execute_result"
    }
   ],
   "source": [
    "X = sc_annual.drop(columns=['SCSTHPI'], axis=1)\n",
    "Y = sc_annual['SCSTHPI']\n",
    "X_train, X_test, Y_train, Y_test = train_test_split(X, Y, test_size = 0.2, random_state=5)\n",
    "lin_model = LinearRegression()\n",
    "lin_model.fit(X_train, Y_train)"
   ]
  },
  {
   "cell_type": "code",
   "execution_count": 11,
   "metadata": {},
   "outputs": [
    {
     "name": "stdout",
     "output_type": "stream",
     "text": [
      "The model performance for training set\n",
      "--------------------------------------\n",
      "Root Mean Squared Error is 13.04729263105491\n",
      "R-Squared score is 0.9701514692551751\n",
      "\n",
      "\n",
      "The model performance for testing set\n",
      "--------------------------------------\n",
      "Root Mean Squared Error is 14.387754373625608\n",
      "R-Squared score is 0.9519664612277512\n"
     ]
    }
   ],
   "source": [
    "# model evaluation for training set\n",
    "y_train_predict = lin_model.predict(X_train)\n",
    "rmse = (np.sqrt(mean_squared_error(Y_train, y_train_predict)))\n",
    "r2 = r2_score(Y_train, y_train_predict)\n",
    "\n",
    "print(\"The model performance for training set\")\n",
    "print(\"--------------------------------------\")\n",
    "print('Root Mean Squared Error is {}'.format(rmse))\n",
    "print('R-Squared score is {}'.format(r2))\n",
    "print(\"\\n\")\n",
    "\n",
    "# model evaluation for testing set\n",
    "y_test_predict = lin_model.predict(X_test)\n",
    "rmse = (np.sqrt(mean_squared_error(Y_test, y_test_predict)))\n",
    "r2 = r2_score(Y_test, y_test_predict)\n",
    "\n",
    "print(\"The model performance for testing set\")\n",
    "print(\"--------------------------------------\")\n",
    "print('Root Mean Squared Error is {}'.format(rmse))\n",
    "print('R-Squared score is {}'.format(r2))"
   ]
  }
 ],
 "metadata": {
  "kernelspec": {
   "display_name": "Python 3",
   "language": "python",
   "name": "python3"
  },
  "language_info": {
   "codemirror_mode": {
    "name": "ipython",
    "version": 3
   },
   "file_extension": ".py",
   "mimetype": "text/x-python",
   "name": "python",
   "nbconvert_exporter": "python",
   "pygments_lexer": "ipython3",
   "version": "3.7.3"
  }
 },
 "nbformat": 4,
 "nbformat_minor": 2
}
